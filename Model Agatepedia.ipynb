{
  "nbformat": 4,
  "nbformat_minor": 0,
  "metadata": {
    "colab": {
      "name": "Agatepedia.ipynb",
      "provenance": [],
      "collapsed_sections": []
    },
    "kernelspec": {
      "name": "python3",
      "display_name": "Python 3"
    },
    "language_info": {
      "name": "python"
    }
  },
  "cells": [
    {
      "cell_type": "code",
      "execution_count": 68,
      "metadata": {
        "id": "1V6rOfZXKUCs"
      },
      "outputs": [],
      "source": [
        "import os\n",
        "import cv2\n",
        "import zipfile\n",
        "import random\n",
        "import shutil\n",
        "\n",
        "import numpy as np\n",
        "import matplotlib.pyplot as plt\n",
        "import tensorflow as tf\n",
        "\n",
        "from random import randint\n",
        "from shutil import copyfile\n",
        "\n"
      ]
    },
    {
      "cell_type": "code",
      "source": [
        "\n",
        "from google.colab import drive\n",
        "drive.mount('/content/drive', force_remount=True)"
      ],
      "metadata": {
        "colab": {
          "base_uri": "https://localhost:8080/"
        },
        "id": "lCZpfzZwonRj",
        "outputId": "d34c3511-f3cd-4506-f097-6e08551c99ca"
      },
      "execution_count": 69,
      "outputs": [
        {
          "output_type": "stream",
          "name": "stdout",
          "text": [
            "Mounted at /content/drive\n"
          ]
        }
      ]
    },
    {
      "cell_type": "code",
      "source": [
        "zip_ref = zipfile.ZipFile('/content/drive/MyDrive/Dataset.zip', 'r') #Opens the zip file in read mode\n",
        "zip_ref.extractall('/tmp') #Extracts the files into the /tmp folder\n",
        "zip_ref.close()"
      ],
      "metadata": {
        "id": "Jb7h-JOXrCSo"
      },
      "execution_count": 70,
      "outputs": []
    },
    {
      "cell_type": "code",
      "source": [
        "len(os.listdir('/tmp/Dataset/'))"
      ],
      "metadata": {
        "colab": {
          "base_uri": "https://localhost:8080/"
        },
        "id": "TogkUglEr8Tg",
        "outputId": "72394cd7-c460-46d0-ef69-6887834f8ae4"
      },
      "execution_count": 71,
      "outputs": [
        {
          "output_type": "execute_result",
          "data": {
            "text/plain": [
              "3"
            ]
          },
          "metadata": {},
          "execution_count": 71
        }
      ]
    },
    {
      "cell_type": "code",
      "source": [
        "CLASSES, akik = [], [] # names of classes, count of images for each class\n",
        "\n",
        "for root, dirs, files in os.walk('/tmp/Dataset'):\n",
        "    f = os.path.basename(root)    # get class name - Amethyst, Onyx, etc    \n",
        "        \n",
        "    if len(files) > 0:\n",
        "        akik.append(len(files))\n",
        "        if f not in CLASSES:\n",
        "            CLASSES.append(f) # add folder name\n",
        "    \n",
        "    # uncomment this block if you want a text output about each subfolder\n",
        "    #count_dirs = 0\n",
        "    #for f in dirs:           # count subfolders\n",
        "        #count_dirs += 1\n",
        "    #depth = root.split(os.sep)\n",
        "    #print((len(depth) - 2) * '--'+'>', '{}:\\t {} folders, {} imgs'.format(os.path.basename(root), count_dirs, gems[-1] if gems!=[] else 0)) \n",
        "    \n",
        "akik_count = len(CLASSES) # 87 = number of classes\n",
        "print('{} classes with {} images in total'.format(len(CLASSES), sum(akik)))\n",
        "\n",
        "#f, ax = plt.subplots(figsize=(15,6))\n",
        "#if(akik[0])<10:\n",
        "#    plt.bar(range(akik_count), akik[akik_count:], label = 'Train data')\n",
        "#    plt.bar(range(akik_count), akik[0:akik_count], label = 'Test data')\n",
        "#else:\n",
        "#    plt.bar(range(akik_count), akik[0:akik_count], label = 'Train data')\n",
        "#    plt.bar(range(akik_count), akik[akik_count:], label = 'Test data')\n",
        "#ax.grid()\n",
        "#ax.legend(fontsize = 12);"
      ],
      "metadata": {
        "colab": {
          "base_uri": "https://localhost:8080/"
        },
        "id": "1XnJ71a6MsLW",
        "outputId": "f98f1089-3227-4d82-a757-acbff62d7059"
      },
      "execution_count": 73,
      "outputs": [
        {
          "output_type": "stream",
          "name": "stdout",
          "text": [
            "3 classes with 120 images in total\n"
          ]
        }
      ]
    },
    {
      "cell_type": "code",
      "source": [
        "source_path = '/tmp/Dataset'\n",
        "\n",
        "source_path_bacan = os.path.join(source_path, 'Bacan')\n",
        "source_path_merahdelima = os.path.join(source_path, 'Merah_Delima')\n",
        "source_path_sungaidareh = os.path.join(source_path, 'Sungai_Dareh')\n",
        "\n",
        "\n",
        "\n",
        "# os.listdir returns a list containing all files under the given path\n",
        "print(f\"There are {len(os.listdir(source_path_bacan))} images of bacan.\")\n",
        "print(f\"There are {len(os.listdir(source_path_merahdelima))} images of merah delima.\")\n",
        "print(f\"There are {len(os.listdir(source_path_sungaidareh))} images of sungai dareh.\")"
      ],
      "metadata": {
        "colab": {
          "base_uri": "https://localhost:8080/"
        },
        "id": "BJcTb5qwhMa6",
        "outputId": "a4da2b01-c9d6-4ffd-b0f6-8b1ec0064fbf"
      },
      "execution_count": 74,
      "outputs": [
        {
          "output_type": "stream",
          "name": "stdout",
          "text": [
            "There are 40 images of bacan.\n",
            "There are 40 images of merah delima.\n",
            "There are 40 images of sungai dareh.\n"
          ]
        }
      ]
    },
    {
      "cell_type": "code",
      "source": [
        "# Define root directory\n",
        "root_dir = '/tmp/batuakik'\n",
        "\n",
        "# Empty directory to prevent FileExistsError is the function is run several times\n",
        "if os.path.exists(root_dir):\n",
        "  shutil.rmtree(root_dir)\n",
        "\n",
        "# Create_train_test_dirs\n",
        "def create_train_test_dirs(root_path):\n",
        "  # HINT:\n",
        "  # Use os.makedirs to create your directories with intermediate subdirectories\n",
        "  # Don't hardcode the paths. Use os.path.join to append the new directories to the root_path parameter\n",
        "\n",
        "  # CREATE TRAINING & TESTING PATH\n",
        "  training_path = os.path.join(root_path, \"training\")\n",
        "  os.makedirs(training_path)\n",
        "\n",
        "  testing_path = os.path.join(root_path, \"testing\")\n",
        "  os.makedirs(testing_path)\n",
        "\n",
        "  # CREATE TRAINING PATH FOR EACH CLASSES\n",
        "  training_bacan = os.path.join(training_path, \"bacan\")\n",
        "  os.makedirs(training_bacan)\n",
        "  training_merah_delima = os.path.join(training_path, \"merah_delima\")\n",
        "  os.makedirs(training_merah_delima)\n",
        "  training_sungai_dareh = os.path.join(training_path, \"sungai_dareh\")\n",
        "  os.makedirs(training_sungai_dareh)\n",
        "\n",
        "  # CREATE TESTING PATH FOR EACH CLASSES\n",
        "  testing_bacan = os.path.join(testing_path, \"bacan\")\n",
        "  os.makedirs(testing_bacan)\n",
        "  testing_merah_delima = os.path.join(testing_path, \"merah_delima\")\n",
        "  os.makedirs(testing_merah_delima)\n",
        "  testing_sungai_dareh = os.path.join(testing_path, \"sungai_dareh\")\n",
        "  os.makedirs(testing_sungai_dareh)\n",
        "\n",
        "  ### END CODE HERE\n",
        "\n",
        "try:\n",
        "  create_train_test_dirs(root_path=root_dir)\n",
        "except FileExistsError:\n",
        "  print(\"You should not be seeing this since the upper directory is removed beforehand\")\n"
      ],
      "metadata": {
        "id": "n_q2N6A7sCqn"
      },
      "execution_count": 75,
      "outputs": []
    },
    {
      "cell_type": "code",
      "source": [
        "# Test your create_train_test_dirs function\n",
        "\n",
        "for rootdir, dirs, files in os.walk(root_dir):\n",
        "    for subdir in dirs:\n",
        "        print(os.path.join(rootdir, subdir))"
      ],
      "metadata": {
        "colab": {
          "base_uri": "https://localhost:8080/"
        },
        "id": "1UMOu6T1dxh7",
        "outputId": "5efb9f51-9bcd-46ac-a4b7-de153a47db0d"
      },
      "execution_count": 76,
      "outputs": [
        {
          "output_type": "stream",
          "name": "stdout",
          "text": [
            "/tmp/batuakik/testing\n",
            "/tmp/batuakik/training\n",
            "/tmp/batuakik/testing/sungai_dareh\n",
            "/tmp/batuakik/testing/merah_delima\n",
            "/tmp/batuakik/testing/bacan\n",
            "/tmp/batuakik/training/sungai_dareh\n",
            "/tmp/batuakik/training/merah_delima\n",
            "/tmp/batuakik/training/bacan\n"
          ]
        }
      ]
    },
    {
      "cell_type": "code",
      "source": [
        "# GRADED FUNCTION: split_data\n",
        "def split_data(SOURCE, TRAINING, TESTING, SPLIT_SIZE):\n",
        "\n",
        "  ### START CODE HERE\n",
        "  files = []\n",
        "  for filename in os.listdir(SOURCE):\n",
        "      file = SOURCE + filename\n",
        "      if os.path.getsize(file) > 0:\n",
        "          files.append(filename)\n",
        "      else:\n",
        "          print(filename + \" is zero length, so ignoring.\")\n",
        "\n",
        "  training_length = int(len(files) * SPLIT_SIZE)\n",
        "  testing_length = int(len(files) - training_length)\n",
        "  shuffled_set = random.sample(files, len(files))\n",
        "  training_set = shuffled_set[0:training_length]\n",
        "  testing_set = shuffled_set[-testing_length:]\n",
        "\n",
        "  for filename in training_set:\n",
        "      this_file = SOURCE + filename\n",
        "      destination = TRAINING + filename\n",
        "      copyfile(this_file, destination)\n",
        "\n",
        "  for filename in testing_set:\n",
        "      this_file = SOURCE + filename\n",
        "      destination = TESTING + filename\n",
        "      copyfile(this_file, destination)\n",
        "\n",
        "\n",
        "  ### END CODE HERE"
      ],
      "metadata": {
        "id": "ImX445C1eSnM"
      },
      "execution_count": 77,
      "outputs": []
    },
    {
      "cell_type": "code",
      "source": [
        "# Test your split_data function\n",
        "\n",
        "# Define paths\n",
        "BACAN_SOURCE_DIR = \"/tmp/Dataset/Bacan/\"\n",
        "MERAHDELIMA_SOURCE_DIR = \"/tmp/Dataset/Merah_Delima/\"\n",
        "SUNGAIDAREH_SOURCE_DIR = \"/tmp/Dataset/Sungai_Dareh/\"\n",
        "\n",
        "TRAINING_DIR = \"/tmp/batuakik/training/\"\n",
        "TESTING_DIR = \"/tmp/batuakik/testing/\"\n",
        "\n",
        "TRAINING_BACAN_DIR = os.path.join(TRAINING_DIR, \"bacan/\")\n",
        "TESTING_BACAN_DIR = os.path.join(TESTING_DIR, \"bacan/\")\n",
        "\n",
        "TRAINING_MERAHDELIMA_DIR = os.path.join(TRAINING_DIR, \"merah_delima/\")\n",
        "TESTING_MERAHDELIMA_DIR = os.path.join(TESTING_DIR, \"merah_delima/\")\n",
        "\n",
        "TRAINING_SUNGAIDAREH_DIR = os.path.join(TRAINING_DIR, \"sungai_dareh/\")\n",
        "TESTING_SUNGAIDAREH_DIR = os.path.join(TESTING_DIR, \"sungai_dareh/\")\n",
        "\n",
        "# Empty directories in case you run this cell multiple times\n",
        "if len(os.listdir(TRAINING_BACAN_DIR)) > 0:\n",
        "  for file in os.scandir(TRAINING_BACAN_DIR):\n",
        "    os.remove(file.path)\n",
        "if len(os.listdir(TRAINING_MERAHDELIMA_DIR)) > 0:\n",
        "  for file in os.scandir(TRAINING_MERAHDELIMA_DIR):\n",
        "    os.remove(file.path)\n",
        "if len(os.listdir(TRAINING_SUNGAIDAREH_DIR)) > 0:\n",
        "  for file in os.scandir(TRAINING_SUNGAIDAREH_DIR):\n",
        "    os.remove(file.path)\n",
        "if len(os.listdir(TESTING_BACAN_DIR)) > 0:\n",
        "  for file in os.scandir(TESTING_BACAN_DIR):\n",
        "    os.remove(file.path)\n",
        "if len(os.listdir(TESTING_MERAHDELIMA_DIR)) > 0:\n",
        "  for file in os.scandir(TESTING_MERAHDELIMA_DIR):\n",
        "    os.remove(file.path)\n",
        "if len(os.listdir(TESTING_SUNGAIDAREH_DIR)) > 0:\n",
        "  for file in os.scandir(TESTING_SUNGAIDAREH_DIR):\n",
        "    os.remove(file.path)\n",
        "\n",
        "# Define proportion of images used for training\n",
        "split_size = .9\n",
        "\n",
        "# Run the function\n",
        "# NOTE: Messages about zero length images should be printed out\n",
        "split_data(BACAN_SOURCE_DIR, TRAINING_BACAN_DIR, TESTING_BACAN_DIR, split_size)\n",
        "split_data(MERAHDELIMA_SOURCE_DIR, TRAINING_MERAHDELIMA_DIR, TESTING_MERAHDELIMA_DIR, split_size)\n",
        "split_data(SUNGAIDAREH_SOURCE_DIR, TRAINING_SUNGAIDAREH_DIR, TESTING_SUNGAIDAREH_DIR, split_size)\n",
        "\n",
        "# Check that the number of images matches the expected output\n",
        "print(f\"\\n\\nThere are {len(os.listdir(TRAINING_BACAN_DIR))} images of bacan for training\")\n",
        "print(f\"There are {len(os.listdir(TRAINING_MERAHDELIMA_DIR))} images of merah delima for training\")\n",
        "print(f\"There are {len(os.listdir(TRAINING_SUNGAIDAREH_DIR))} images of sungai dareh for training\")\n",
        "print(f\"There are {len(os.listdir(TESTING_BACAN_DIR))} images of bacan for testing\")\n",
        "print(f\"There are {len(os.listdir(TESTING_MERAHDELIMA_DIR))} images of merah delima for testing\")\n",
        "print(f\"There are {len(os.listdir(TESTING_SUNGAIDAREH_DIR))} images of sungai dareh for testing\")"
      ],
      "metadata": {
        "colab": {
          "base_uri": "https://localhost:8080/"
        },
        "id": "DZOL1X2HexGK",
        "outputId": "5d55aeb9-c2b4-443c-cbb5-2857675ca39c"
      },
      "execution_count": 78,
      "outputs": [
        {
          "output_type": "stream",
          "name": "stdout",
          "text": [
            "\n",
            "\n",
            "There are 36 images of bacan for training\n",
            "There are 36 images of merah delima for training\n",
            "There are 36 images of sungai dareh for training\n",
            "There are 4 images of bacan for testing\n",
            "There are 4 images of merah delima for testing\n",
            "There are 4 images of sungai dareh for testing\n"
          ]
        }
      ]
    },
    {
      "cell_type": "code",
      "source": [
        "img_width, img_height = 300, 300    # width and height of image"
      ],
      "metadata": {
        "id": "f4hGFaVbFlzK"
      },
      "execution_count": 79,
      "outputs": []
    },
    {
      "cell_type": "code",
      "source": [
        "def read_imgs_lbls(_dir):\n",
        "    Images, Labels = [], []\n",
        "    for root, dirs, files in os.walk(_dir):\n",
        "        f = os.path.basename(root)  # get class name - Amethyst, Onyx, etc       \n",
        "        for file in files:\n",
        "            Labels.append(f)\n",
        "            try:\n",
        "                image = cv2.imread(root+'/'+file)              # read the image (OpenCV)\n",
        "                image = cv2.resize(image,(int(img_width), int(img_height)))       # resize the image (images are different sizes)\n",
        "                image = cv2.cvtColor(image, cv2.COLOR_BGR2RGB) # converts an image from BGR color space to RGB\n",
        "                Images.append(image)\n",
        "            except Exception as e:\n",
        "                print(e)\n",
        "    Images = np.array(Images)\n",
        "    return (Images, Labels)"
      ],
      "metadata": {
        "id": "q6K7vQkXHczY"
      },
      "execution_count": 80,
      "outputs": []
    },
    {
      "cell_type": "code",
      "source": [
        "def get_class_index(Labels):\n",
        "    for i, n in enumerate(Labels):\n",
        "        for j, k in enumerate(CLASSES):    # foreach CLASSES\n",
        "            if n == k:\n",
        "                Labels[i] = j\n",
        "    Labels = np.array(Labels)\n",
        "    return Labels"
      ],
      "metadata": {
        "id": "0TKkv1UuIuzv"
      },
      "execution_count": 81,
      "outputs": []
    },
    {
      "cell_type": "code",
      "source": [
        "Train_Imgs, Train_Lbls = read_imgs_lbls(TRAINING_DIR)\n",
        "Train_Lbls = get_class_index(Train_Lbls)\n",
        "print('Shape of train images: {}'.format(Train_Imgs.shape))\n",
        "print('Shape of train labels: {}'.format(Train_Lbls.shape))\n"
      ],
      "metadata": {
        "colab": {
          "base_uri": "https://localhost:8080/"
        },
        "id": "KFpSAXyjICgJ",
        "outputId": "e41b73fe-3800-414b-b933-b1ba92be3c1c"
      },
      "execution_count": 82,
      "outputs": [
        {
          "output_type": "stream",
          "name": "stdout",
          "text": [
            "Shape of train images: (108, 300, 300, 3)\n",
            "Shape of train labels: (108,)\n"
          ]
        }
      ]
    },
    {
      "cell_type": "code",
      "source": [
        "from keras.models import Sequential\n",
        "from tensorflow.keras.preprocessing.image import ImageDataGenerator\n",
        "from keras.layers import Conv2D, MaxPooling2D, AveragePooling2D\n",
        "from keras.layers import Activation, Dropout, Flatten, Dense\n",
        "from keras import optimizers"
      ],
      "metadata": {
        "id": "KROdkMR213vp"
      },
      "execution_count": 83,
      "outputs": []
    },
    {
      "cell_type": "code",
      "source": [
        "# train_val_generators\n",
        "def train_val_generators(TRAINING_DIR, VALIDATION_DIR):\n",
        "  ### START CODE HERE\n",
        "\n",
        "  # Instantiate the ImageDataGenerator class (don't forget to set the rescale argument)\n",
        "  # this is the augmentation configuration used for training\n",
        "  train_datagen = ImageDataGenerator(rescale=1/255, \n",
        "                                     rotation_range=25,\n",
        "                                     zoom_range=0.1,\n",
        "                                     width_shift_range=0.1,\n",
        "                                     height_shift_range=0.1,\n",
        "                                     shear_range=0.2,\n",
        "                                     horizontal_flip=True)\n",
        "\n",
        "\n",
        "  # Pass in the appropiate arguments to the flow_from_directory method\n",
        "  train_generator = train_datagen.flow_from_directory(directory=TRAINING_DIR,\n",
        "                                                      batch_size=2,\n",
        "                                                      class_mode='sparse',\n",
        "                                                      target_size=(300, 300))\n",
        "\n",
        "  # Instantiate the ImageDataGenerator class (don't forget to set the rescale argument)\n",
        "  validation_datagen = ImageDataGenerator(rescale=1/255)\n",
        "\n",
        "  # Pass in the appropiate arguments to the flow_from_directory method\n",
        "  validation_generator = validation_datagen.flow_from_directory(directory=VALIDATION_DIR,\n",
        "                                                                batch_size=1,\n",
        "                                                                class_mode='sparse',\n",
        "                                                                target_size=(300, 300))\n",
        "  ### END CODE HERE\n",
        "  return train_generator, validation_generator"
      ],
      "metadata": {
        "id": "8hHPlEqE2LCa"
      },
      "execution_count": 99,
      "outputs": []
    },
    {
      "cell_type": "code",
      "source": [
        "# Test your generators\n",
        "train_generator, validation_generator = train_val_generators(TRAINING_DIR, TESTING_DIR)"
      ],
      "metadata": {
        "colab": {
          "base_uri": "https://localhost:8080/"
        },
        "id": "aXvdT3HR2LKQ",
        "outputId": "cc0d1f79-b258-443f-a9de-dc47c498f8f6"
      },
      "execution_count": 100,
      "outputs": [
        {
          "output_type": "stream",
          "name": "stdout",
          "text": [
            "Found 108 images belonging to 3 classes.\n",
            "Found 12 images belonging to 3 classes.\n"
          ]
        }
      ]
    },
    {
      "cell_type": "code",
      "source": [
        "# GRADED FUNCTION: create_model\n",
        "def create_model():\n",
        "  # DEFINE A KERAS MODEL TO CLASSIFY CATS V DOGS\n",
        "  # USE AT LEAST 3 CONVOLUTION LAYERS\n",
        "\n",
        "  ### START CODE HERE\n",
        "\n",
        "  model = tf.keras.models.Sequential([ \n",
        "      tf.keras.layers.Conv2D(32, (3,3), input_shape=(300,300,3), activation='relu'),\n",
        "      tf.keras.layers.MaxPooling2D(2,2),\n",
        "      tf.keras.layers.Conv2D(64, (3,3), activation='relu'),\n",
        "      tf.keras.layers.MaxPooling2D(2,2),\n",
        "      tf.keras.layers.Conv2D(128, (3,3), activation='relu'),\n",
        "      tf.keras.layers.MaxPooling2D(2,2),\n",
        "      tf.keras.layers.Conv2D(128, (3,3), activation='relu'),\n",
        "      tf.keras.layers.MaxPooling2D(2,2),\n",
        "      tf.keras.layers.Conv2D(128, (3,3), activation='relu'),\n",
        "      tf.keras.layers.MaxPooling2D(2,2),\n",
        "      tf.keras.layers.Flatten(),\n",
        "      tf.keras.layers.Dropout(0.5),\n",
        "      tf.keras.layers.Dense(128, activation='relu'),\n",
        "      tf.keras.layers.Dense(3, activation=\"softmax\"),\n",
        "  ])\n",
        "\n",
        "  \n",
        "  model.compile(optimizer='adam',\n",
        "                loss='sparse_categorical_crossentropy',\n",
        "                metrics=['accuracy']) \n",
        "    \n",
        "  ### END CODE HERE\n",
        "\n",
        "  return model\n"
      ],
      "metadata": {
        "id": "uHHJ_THKgBMx"
      },
      "execution_count": 101,
      "outputs": []
    },
    {
      "cell_type": "code",
      "source": [
        "model = create_model()\n",
        "\n",
        "# Train the model\n",
        "# Note that this may take some time.\n",
        "history = model.fit(train_generator,\n",
        "                    epochs=10,\n",
        "                    verbose=1,\n",
        "                    validation_data=validation_generator)"
      ],
      "metadata": {
        "colab": {
          "base_uri": "https://localhost:8080/"
        },
        "id": "rNAR99UvmDb-",
        "outputId": "6890d6ba-8d37-4699-abb1-d7e786345d97"
      },
      "execution_count": 102,
      "outputs": [
        {
          "output_type": "stream",
          "name": "stdout",
          "text": [
            "Epoch 1/10\n",
            "54/54 [==============================] - 25s 446ms/step - loss: 0.7878 - accuracy: 0.5833 - val_loss: 0.5990 - val_accuracy: 0.6667\n",
            "Epoch 2/10\n",
            "54/54 [==============================] - 24s 445ms/step - loss: 0.5065 - accuracy: 0.7315 - val_loss: 0.4745 - val_accuracy: 0.6667\n",
            "Epoch 3/10\n",
            "54/54 [==============================] - 24s 445ms/step - loss: 0.5195 - accuracy: 0.6852 - val_loss: 0.5202 - val_accuracy: 0.6667\n",
            "Epoch 4/10\n",
            "54/54 [==============================] - 24s 439ms/step - loss: 0.4816 - accuracy: 0.6852 - val_loss: 0.4782 - val_accuracy: 0.6667\n",
            "Epoch 5/10\n",
            "54/54 [==============================] - 24s 439ms/step - loss: 0.4694 - accuracy: 0.6852 - val_loss: 0.4962 - val_accuracy: 0.6667\n",
            "Epoch 6/10\n",
            "54/54 [==============================] - 24s 440ms/step - loss: 0.4713 - accuracy: 0.6667 - val_loss: 0.4715 - val_accuracy: 0.5833\n",
            "Epoch 7/10\n",
            "54/54 [==============================] - 24s 439ms/step - loss: 0.4690 - accuracy: 0.6389 - val_loss: 0.4583 - val_accuracy: 0.9167\n",
            "Epoch 8/10\n",
            "54/54 [==============================] - 24s 441ms/step - loss: 0.3979 - accuracy: 0.7778 - val_loss: 0.4350 - val_accuracy: 0.7500\n",
            "Epoch 9/10\n",
            "54/54 [==============================] - 24s 441ms/step - loss: 0.6168 - accuracy: 0.8333 - val_loss: 0.2363 - val_accuracy: 1.0000\n",
            "Epoch 10/10\n",
            "54/54 [==============================] - 24s 437ms/step - loss: 0.5590 - accuracy: 0.7778 - val_loss: 0.5104 - val_accuracy: 0.6667\n"
          ]
        }
      ]
    },
    {
      "cell_type": "code",
      "source": [
        "#-----------------------------------------------------------\n",
        "# Retrieve a list of list results on training and test data\n",
        "# sets for each training epoch\n",
        "#-----------------------------------------------------------\n",
        "acc=history.history['accuracy']\n",
        "val_acc=history.history['val_accuracy']\n",
        "loss=history.history['loss']\n",
        "val_loss=history.history['val_loss']\n",
        "\n",
        "epochs=range(len(acc)) # Get number of epochs\n",
        "\n",
        "#------------------------------------------------\n",
        "# Plot training and validation accuracy per epoch\n",
        "#------------------------------------------------\n",
        "plt.plot(epochs, acc, 'r', \"Training Accuracy\")\n",
        "plt.plot(epochs, val_acc, 'b', \"Validation Accuracy\")\n",
        "plt.title('Training and validation accuracy')\n",
        "plt.show()\n",
        "print(\"\")\n",
        "\n",
        "#------------------------------------------------\n",
        "# Plot training and validation loss per epoch\n",
        "#------------------------------------------------\n",
        "plt.plot(epochs, loss, 'r', \"Training Loss\")\n",
        "plt.plot(epochs, val_loss, 'b', \"Validation Loss\")\n",
        "plt.show()"
      ],
      "metadata": {
        "colab": {
          "base_uri": "https://localhost:8080/",
          "height": 546
        },
        "id": "lOSfXgsCif8s",
        "outputId": "333e814b-d804-465c-817f-f2aa4702ed87"
      },
      "execution_count": 98,
      "outputs": [
        {
          "output_type": "display_data",
          "data": {
            "text/plain": [
              "<Figure size 432x288 with 1 Axes>"
            ],
            "image/png": "[encoded data removed]"
          },
          "metadata": {
            "needs_background": "light"
          }
        },
        {
          "output_type": "stream",
          "name": "stdout",
          "text": [
            "\n"
          ]
        },
        {
          "output_type": "display_data",
          "data": {
            "text/plain": [
              "<Figure size 432x288 with 1 Axes>"
            ],
            "image/png": "[encoded data removed]"
          },
          "metadata": {
            "needs_background": "light"
          }
        }
      ]
    }
  ]
}