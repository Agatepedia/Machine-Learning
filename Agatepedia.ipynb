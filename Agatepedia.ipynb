{
  "nbformat": 4,
  "nbformat_minor": 0,
  "metadata": {
    "colab": {
      "name": "Agatepedia.ipynb",
      "provenance": [],
      "collapsed_sections": []
    },
    "kernelspec": {
      "name": "python3",
      "display_name": "Python 3"
    },
    "language_info": {
      "name": "python"
    }
  },
  "cells": [
    {
      "cell_type": "code",
      "execution_count": 22,
      "metadata": {
        "id": "1V6rOfZXKUCs"
      },
      "outputs": [],
      "source": [
        "import os\n",
        "import cv2\n",
        "import zipfile\n",
        "import random\n",
        "import shutil\n",
        "\n",
        "import numpy as np\n",
        "import matplotlib.pyplot as plt\n",
        "import tensorflow as tf\n",
        "import pathlib\n",
        "\n",
        "from random import randint\n",
        "from shutil import copyfile\n",
        "from google.colab import files\n",
        "\n"
      ]
    },
    {
      "cell_type": "markdown",
      "source": [
        "**To import our Dataset from Google Drive, we have to mount our Google Drive into Colab first**"
      ],
      "metadata": {
        "id": "vr3Fo6OZzccS"
      }
    },
    {
      "cell_type": "code",
      "source": [
        "from google.colab import drive\n",
        "drive.mount('/content/drive', force_remount=True)"
      ],
      "metadata": {
        "colab": {
          "base_uri": "https://localhost:8080/"
        },
        "id": "lCZpfzZwonRj",
        "outputId": "0d6c79dd-319a-4777-bf3c-cb9808f111ba"
      },
      "execution_count": 2,
      "outputs": [
        {
          "output_type": "stream",
          "name": "stdout",
          "text": [
            "Mounted at /content/drive\n"
          ]
        }
      ]
    },
    {
      "cell_type": "markdown",
      "source": [
        "**Extract the Dataset.zip into /tmp/Dataset/ directory**"
      ],
      "metadata": {
        "id": "MMCfpe3N0GwS"
      }
    },
    {
      "cell_type": "code",
      "source": [
        "zip_ref = zipfile.ZipFile('/content/drive/MyDrive/Dataset.zip', 'r') #Opens the zip file in read mode\n",
        "zip_ref.extractall('/tmp') #Extracts the files into the /tmp folder\n",
        "zip_ref.close()\n",
        "\n",
        "len(os.listdir('/tmp/Dataset/'))"
      ],
      "metadata": {
        "id": "Jb7h-JOXrCSo",
        "colab": {
          "base_uri": "https://localhost:8080/"
        },
        "outputId": "da658a7e-9d85-41be-aab9-d55bfd1a8822"
      },
      "execution_count": 3,
      "outputs": [
        {
          "output_type": "execute_result",
          "data": {
            "text/plain": [
              "14"
            ]
          },
          "metadata": {},
          "execution_count": 3
        }
      ]
    },
    {
      "cell_type": "markdown",
      "source": [
        "**Generate name of classes, and count images from each class**"
      ],
      "metadata": {
        "id": "htcLshcL0o47"
      }
    },
    {
      "cell_type": "code",
      "source": [
        "CLASSES, images = [], [] # names of classes, count of images for each class\n",
        "\n",
        "for root, dirs, files in os.walk('/tmp/Dataset'):\n",
        "    f = os.path.basename(root)    # get class name - Bacan, Kalimaya, etc    \n",
        "        \n",
        "    if len(files) > 0:\n",
        "        images.append(len(files))\n",
        "        if f not in CLASSES:\n",
        "            CLASSES.append(f) # add folder name\n",
        "    \n",
        "class_count = len(CLASSES) # number of classes\n",
        "print('{} classes with {} images in total'.format(len(CLASSES), sum(images)))"
      ],
      "metadata": {
        "colab": {
          "base_uri": "https://localhost:8080/"
        },
        "id": "1XnJ71a6MsLW",
        "outputId": "be9242fb-6e18-4495-eabe-a718eacc2b96"
      },
      "execution_count": 4,
      "outputs": [
        {
          "output_type": "stream",
          "name": "stdout",
          "text": [
            "14 classes with 1400 images in total\n"
          ]
        }
      ]
    },
    {
      "cell_type": "markdown",
      "source": [
        "**Create source path for each class**"
      ],
      "metadata": {
        "id": "lAppttHx1Ktg"
      }
    },
    {
      "cell_type": "code",
      "source": [
        "source_path = '/tmp/Dataset'\n",
        "\n",
        "source_path_bacan = os.path.join(source_path, 'Bacan')\n",
        "source_path_batugiok = os.path.join(source_path, 'Batu_Giok')\n",
        "source_path_biosolar = os.path.join(source_path, 'Biosolar')\n",
        "source_path_merahdelima = os.path.join(source_path, 'Merah_Delima')\n",
        "source_path_sungaidareh = os.path.join(source_path, 'Sungai_Dareh')\n",
        "source_path_kalimaya = os.path.join(source_path, 'Kalimaya')\n",
        "source_path_kalsedon = os.path.join(source_path, 'Kalsedon')\n",
        "source_path_kecubung = os.path.join(source_path, 'Kecubung')\n",
        "source_path_pirus = os.path.join(source_path, 'Pirus')\n",
        "source_path_safir = os.path.join(source_path, 'Safir')\n",
        "source_path_sulaiman = os.path.join(source_path, 'Sulaiman')\n",
        "source_path_tapakjalak = os.path.join(source_path, 'Tapak_Jalak')\n",
        "source_path_topazkuning = os.path.join(source_path, 'Topaz_Kuning')\n",
        "source_path_zamrud = os.path.join(source_path, 'Zamrud')\n",
        "\n",
        "\n",
        "# os.listdir returns a list containing all files under the given path\n",
        "print(f\"There are {len(os.listdir(source_path_bacan))} images of Bacan.\")\n",
        "print(f\"There are {len(os.listdir(source_path_batugiok))} images of Batu Giok.\")\n",
        "print(f\"There are {len(os.listdir(source_path_biosolar))} images of Biosolar.\")\n",
        "print(f\"There are {len(os.listdir(source_path_merahdelima))} images of Merah Delima.\")\n",
        "print(f\"There are {len(os.listdir(source_path_sungaidareh))} images of Sungai Dareh.\")\n",
        "print(f\"There are {len(os.listdir(source_path_kalimaya))} images of Kalimaya.\")\n",
        "print(f\"There are {len(os.listdir(source_path_kalsedon))} images of Kalsedon.\")\n",
        "print(f\"There are {len(os.listdir(source_path_kecubung))} images of Kecubung.\")\n",
        "print(f\"There are {len(os.listdir(source_path_pirus))} images of Pirus.\")\n",
        "print(f\"There are {len(os.listdir(source_path_safir))} images of Safir.\")\n",
        "print(f\"There are {len(os.listdir(source_path_sulaiman))} images of Sulaiman.\")\n",
        "print(f\"There are {len(os.listdir(source_path_tapakjalak))} images of Tapak Jalak.\")\n",
        "print(f\"There are {len(os.listdir(source_path_topazkuning))} images of Topaz Kuning.\")\n",
        "print(f\"There are {len(os.listdir(source_path_zamrud))} images of Zamrud.\")"
      ],
      "metadata": {
        "colab": {
          "base_uri": "https://localhost:8080/"
        },
        "id": "BJcTb5qwhMa6",
        "outputId": "ad2223ed-e5bf-49db-aee8-be8990b188cf"
      },
      "execution_count": 5,
      "outputs": [
        {
          "output_type": "stream",
          "name": "stdout",
          "text": [
            "There are 100 images of Bacan.\n",
            "There are 100 images of Batu Giok.\n",
            "There are 100 images of Biosolar.\n",
            "There are 100 images of Merah Delima.\n",
            "There are 100 images of Sungai Dareh.\n",
            "There are 100 images of Kalimaya.\n",
            "There are 100 images of Kalsedon.\n",
            "There are 100 images of Kecubung.\n",
            "There are 100 images of Pirus.\n",
            "There are 100 images of Safir.\n",
            "There are 100 images of Sulaiman.\n",
            "There are 100 images of Tapak Jalak.\n",
            "There are 100 images of Topaz Kuning.\n",
            "There are 100 images of Zamrud.\n"
          ]
        }
      ]
    },
    {
      "cell_type": "markdown",
      "source": [
        "**Create Training & Testing directory for each class**"
      ],
      "metadata": {
        "id": "B29Zjo99OX5K"
      }
    },
    {
      "cell_type": "code",
      "source": [
        "# Define root directory\n",
        "new_dir = '/tmp/batuakik'\n",
        "\n",
        "# Empty directory to prevent FileExistsError is the function is run several times\n",
        "if os.path.exists(new_dir):\n",
        "  shutil.rmtree(new_dir)\n",
        "\n",
        "# Create_train_test_dirs\n",
        "def create_train_test_dirs(root_path):\n",
        "  # HINT:\n",
        "  # Use os.makedirs to create your directories with intermediate subdirectories\n",
        "  # Don't hardcode the paths. Use os.path.join to append the new directories to the root_path parameter\n",
        "\n",
        "  # CREATE TRAINING & TESTING PATH\n",
        "  training_path = os.path.join(root_path, \"training\")\n",
        "  os.makedirs(training_path)\n",
        "\n",
        "  testing_path = os.path.join(root_path, \"testing\")\n",
        "  os.makedirs(testing_path)\n",
        "\n",
        "  # CREATE TRAINING PATH FOR EACH CLASSES\n",
        "  training_bacan = os.path.join(training_path, \"bacan\")\n",
        "  os.makedirs(training_bacan)\n",
        "  training_batu_giok = os.path.join(training_path, \"batu_giok\")\n",
        "  os.makedirs(training_batu_giok)\n",
        "  training_biosolar = os.path.join(training_path, \"biosolar\")\n",
        "  os.makedirs(training_biosolar)\n",
        "  training_merah_delima = os.path.join(training_path, \"merah_delima\")\n",
        "  os.makedirs(training_merah_delima)\n",
        "  training_sungai_dareh = os.path.join(training_path, \"sungai_dareh\")\n",
        "  os.makedirs(training_sungai_dareh)\n",
        "  training_kalimaya = os.path.join(training_path, \"kalimaya\")\n",
        "  os.makedirs(training_kalimaya)\n",
        "  training_kalsedon = os.path.join(training_path, \"kalsedon\")\n",
        "  os.makedirs(training_kalsedon)\n",
        "  training_kecubung = os.path.join(training_path, \"kecubung\")\n",
        "  os.makedirs(training_kecubung)\n",
        "  training_pirus = os.path.join(training_path, \"pirus\")\n",
        "  os.makedirs(training_pirus)\n",
        "  training_safir = os.path.join(training_path, \"safir\")\n",
        "  os.makedirs(training_safir)\n",
        "  training_sulaiman = os.path.join(training_path, \"sulaiman\")\n",
        "  os.makedirs(training_sulaiman)\n",
        "  training_tapak_jalak = os.path.join(training_path, \"tapak_jalak\")\n",
        "  os.makedirs(training_tapak_jalak)\n",
        "  training_topaz_kuning = os.path.join(training_path, \"topaz_kuning\")\n",
        "  os.makedirs(training_topaz_kuning)\n",
        "  training_zamrud = os.path.join(training_path, \"zamrud\")\n",
        "  os.makedirs(training_zamrud)\n",
        "\n",
        "  # CREATE TESTING PATH FOR EACH CLASSES\n",
        "  testing_bacan = os.path.join(testing_path, \"bacan\")\n",
        "  os.makedirs(testing_bacan)\n",
        "  testing_batu_giok = os.path.join(testing_path, \"batu_giok\")\n",
        "  os.makedirs(testing_batu_giok)\n",
        "  testing_biosolar = os.path.join(testing_path, \"biosolar\")\n",
        "  os.makedirs(testing_biosolar)\n",
        "  testing_merah_delima = os.path.join(testing_path, \"merah_delima\")\n",
        "  os.makedirs(testing_merah_delima)\n",
        "  testing_sungai_dareh = os.path.join(testing_path, \"sungai_dareh\")\n",
        "  os.makedirs(testing_sungai_dareh)\n",
        "  testing_kalimaya = os.path.join(testing_path, \"kalimaya\")\n",
        "  os.makedirs(testing_kalimaya)\n",
        "  testing_kalsedon = os.path.join(testing_path, \"kalsedon\")\n",
        "  os.makedirs(testing_kalsedon)\n",
        "  testing_kecubung = os.path.join(testing_path, \"kecubung\")\n",
        "  os.makedirs(testing_kecubung)\n",
        "  testing_pirus = os.path.join(testing_path, \"pirus\")\n",
        "  os.makedirs(testing_pirus)\n",
        "  testing_safir = os.path.join(testing_path, \"safir\")\n",
        "  os.makedirs(testing_safir)\n",
        "  testing_sulaiman = os.path.join(testing_path, \"sulaiman\")\n",
        "  os.makedirs(testing_sulaiman)\n",
        "  testing_tapak_jalak = os.path.join(testing_path, \"tapak_jalak\")\n",
        "  os.makedirs(testing_tapak_jalak)\n",
        "  testing_topaz_kuning = os.path.join(testing_path, \"topaz_kuning\")\n",
        "  os.makedirs(testing_topaz_kuning)\n",
        "  testing_zamrud = os.path.join(testing_path, \"zamrud\")\n",
        "  os.makedirs(testing_zamrud)\n",
        "\n",
        "try:\n",
        "  create_train_test_dirs(root_path=new_dir)\n",
        "except FileExistsError:\n",
        "  print(\"You should not be seeing this since the upper directory is removed beforehand\")\n"
      ],
      "metadata": {
        "id": "n_q2N6A7sCqn"
      },
      "execution_count": 6,
      "outputs": []
    },
    {
      "cell_type": "code",
      "source": [
        "# Test your create_train_test_dirs function\n",
        "\n",
        "for newdir, dirs, files in os.walk(new_dir):\n",
        "    for subdir in dirs:\n",
        "        print(os.path.join(newdir, subdir))"
      ],
      "metadata": {
        "colab": {
          "base_uri": "https://localhost:8080/"
        },
        "id": "1UMOu6T1dxh7",
        "outputId": "2ee54dab-9dbf-420a-bdca-462ff55149a8"
      },
      "execution_count": 7,
      "outputs": [
        {
          "output_type": "stream",
          "name": "stdout",
          "text": [
            "/tmp/batuakik/testing\n",
            "/tmp/batuakik/training\n",
            "/tmp/batuakik/testing/tapak_jalak\n",
            "/tmp/batuakik/testing/sulaiman\n",
            "/tmp/batuakik/testing/pirus\n",
            "/tmp/batuakik/testing/merah_delima\n",
            "/tmp/batuakik/testing/sungai_dareh\n",
            "/tmp/batuakik/testing/bacan\n",
            "/tmp/batuakik/testing/safir\n",
            "/tmp/batuakik/testing/kecubung\n",
            "/tmp/batuakik/testing/biosolar\n",
            "/tmp/batuakik/testing/zamrud\n",
            "/tmp/batuakik/testing/topaz_kuning\n",
            "/tmp/batuakik/testing/kalimaya\n",
            "/tmp/batuakik/testing/kalsedon\n",
            "/tmp/batuakik/testing/batu_giok\n",
            "/tmp/batuakik/training/tapak_jalak\n",
            "/tmp/batuakik/training/sulaiman\n",
            "/tmp/batuakik/training/pirus\n",
            "/tmp/batuakik/training/merah_delima\n",
            "/tmp/batuakik/training/sungai_dareh\n",
            "/tmp/batuakik/training/bacan\n",
            "/tmp/batuakik/training/safir\n",
            "/tmp/batuakik/training/kecubung\n",
            "/tmp/batuakik/training/biosolar\n",
            "/tmp/batuakik/training/zamrud\n",
            "/tmp/batuakik/training/topaz_kuning\n",
            "/tmp/batuakik/training/kalimaya\n",
            "/tmp/batuakik/training/kalsedon\n",
            "/tmp/batuakik/training/batu_giok\n"
          ]
        }
      ]
    },
    {
      "cell_type": "markdown",
      "source": [
        "**Create split_data function (90% for Training, 10% for Testing)**"
      ],
      "metadata": {
        "id": "RgLs8fuqOpqj"
      }
    },
    {
      "cell_type": "code",
      "source": [
        "def split_data(SOURCE, TRAINING, TESTING, SPLIT_SIZE):\n",
        "\n",
        "  files = []\n",
        "  for filename in os.listdir(SOURCE):\n",
        "      file = SOURCE + filename\n",
        "      if os.path.getsize(file) > 0:\n",
        "          files.append(filename)\n",
        "      else:\n",
        "          print(filename + \" is zero length, so ignoring.\")\n",
        "\n",
        "  training_length = int(len(files) * SPLIT_SIZE)\n",
        "  testing_length = int(len(files) - training_length)\n",
        "  shuffled_set = random.sample(files, len(files))\n",
        "  training_set = shuffled_set[0:training_length]\n",
        "  testing_set = shuffled_set[-testing_length:]\n",
        "\n",
        "  for filename in training_set:\n",
        "      this_file = SOURCE + filename\n",
        "      destination = TRAINING + filename\n",
        "      copyfile(this_file, destination)\n",
        "\n",
        "  for filename in testing_set:\n",
        "      this_file = SOURCE + filename\n",
        "      destination = TESTING + filename\n",
        "      copyfile(this_file, destination)"
      ],
      "metadata": {
        "id": "ImX445C1eSnM"
      },
      "execution_count": 8,
      "outputs": []
    },
    {
      "cell_type": "markdown",
      "source": [
        "**Create Training & Testing directory (In batuakik directory)**"
      ],
      "metadata": {
        "id": "yk4z7o3qPG4B"
      }
    },
    {
      "cell_type": "code",
      "source": [
        "# Test your split_data function\n",
        "\n",
        "# Define paths\n",
        "BACAN_SOURCE_DIR = \"/tmp/Dataset/Bacan/\"\n",
        "BATUGIOK_SOURCE_DIR = \"/tmp/Dataset/Batu_Giok/\"\n",
        "BIOSOLAR_SOURCE_DIR = \"/tmp/Dataset/Biosolar/\"\n",
        "MERAHDELIMA_SOURCE_DIR = \"/tmp/Dataset/Merah_Delima/\"\n",
        "SUNGAIDAREH_SOURCE_DIR = \"/tmp/Dataset/Sungai_Dareh/\"\n",
        "KALIMAYA_SOURCE_DIR = \"/tmp/Dataset/Kalimaya/\"\n",
        "KALSEDON_SOURCE_DIR = \"/tmp/Dataset/Kalsedon/\"\n",
        "KECUBUNG_SOURCE_DIR = \"/tmp/Dataset/Kecubung/\"\n",
        "PIRUS_SOURCE_DIR = \"/tmp/Dataset/Pirus/\"\n",
        "SAFIR_SOURCE_DIR = \"/tmp/Dataset/Safir/\"\n",
        "SULAIMAN_SOURCE_DIR = \"/tmp/Dataset/Sulaiman/\"\n",
        "TAPAKJALAK_SOURCE_DIR = \"/tmp/Dataset/Tapak_Jalak/\"\n",
        "TOPAZKUNING_SOURCE_DIR = \"/tmp/Dataset/Topaz_Kuning/\"\n",
        "ZAMRUD_SOURCE_DIR = \"/tmp/Dataset/Zamrud/\"\n",
        "\n",
        "TRAINING_DIR = \"/tmp/batuakik/training/\"\n",
        "TESTING_DIR = \"/tmp/batuakik/testing/\"\n",
        "\n",
        "TRAINING_BACAN_DIR = os.path.join(TRAINING_DIR, \"bacan/\")\n",
        "TESTING_BACAN_DIR = os.path.join(TESTING_DIR, \"bacan/\")\n",
        "\n",
        "TRAINING_BATUGIOK_DIR = os.path.join(TRAINING_DIR, \"batu_giok/\")\n",
        "TESTING_BATUGIOK_DIR = os.path.join(TESTING_DIR, \"batu_giok/\")\n",
        "\n",
        "TRAINING_BIOSOLAR_DIR = os.path.join(TRAINING_DIR, \"biosolar/\")\n",
        "TESTING_BIOSOLAR_DIR = os.path.join(TESTING_DIR, \"biosolar/\")\n",
        "\n",
        "TRAINING_MERAHDELIMA_DIR = os.path.join(TRAINING_DIR, \"merah_delima/\")\n",
        "TESTING_MERAHDELIMA_DIR = os.path.join(TESTING_DIR, \"merah_delima/\")\n",
        "\n",
        "TRAINING_SUNGAIDAREH_DIR = os.path.join(TRAINING_DIR, \"sungai_dareh/\")\n",
        "TESTING_SUNGAIDAREH_DIR = os.path.join(TESTING_DIR, \"sungai_dareh/\")\n",
        "\n",
        "TRAINING_KALIMAYA_DIR = os.path.join(TRAINING_DIR, \"kalimaya/\")\n",
        "TESTING_KALIMAYA_DIR = os.path.join(TESTING_DIR, \"kalimaya/\")\n",
        "\n",
        "TRAINING_KALSEDON_DIR = os.path.join(TRAINING_DIR, \"kalsedon/\")\n",
        "TESTING_KALSEDON_DIR = os.path.join(TESTING_DIR, \"kalsedon/\")\n",
        "\n",
        "TRAINING_KECUBUNG_DIR = os.path.join(TRAINING_DIR, \"kecubung/\")\n",
        "TESTING_KECUBUNG_DIR = os.path.join(TESTING_DIR, \"kecubung/\")\n",
        "\n",
        "TRAINING_PIRUS_DIR = os.path.join(TRAINING_DIR, \"pirus/\")\n",
        "TESTING_PIRUS_DIR = os.path.join(TESTING_DIR, \"pirus/\")\n",
        "\n",
        "TRAINING_SAFIR_DIR = os.path.join(TRAINING_DIR, \"safir/\")\n",
        "TESTING_SAFIR_DIR = os.path.join(TESTING_DIR, \"safir/\")\n",
        "\n",
        "TRAINING_SULAIMAN_DIR = os.path.join(TRAINING_DIR, \"sulaiman/\")\n",
        "TESTING_SULAIMAN_DIR = os.path.join(TESTING_DIR, \"sulaiman/\")\n",
        "\n",
        "TRAINING_TAPAKJALAK_DIR = os.path.join(TRAINING_DIR, \"tapak_jalak/\")\n",
        "TESTING_TAPAKJALAK_DIR = os.path.join(TESTING_DIR, \"tapak_jalak/\")\n",
        "\n",
        "TRAINING_TOPAZKUNING_DIR = os.path.join(TRAINING_DIR, \"topaz_kuning/\")\n",
        "TESTING_TOPAZKUNING_DIR = os.path.join(TESTING_DIR, \"topaz_kuning/\")\n",
        "\n",
        "TRAINING_ZAMRUD_DIR = os.path.join(TRAINING_DIR, \"zamrud/\")\n",
        "TESTING_ZAMRUD_DIR = os.path.join(TESTING_DIR, \"zamrud/\")\n",
        "\n",
        "# Empty directories in case you run this cell multiple times\n",
        "\n",
        "# TRAINING\n",
        "if len(os.listdir(TRAINING_BACAN_DIR)) > 0:\n",
        "  for file in os.scandir(TRAINING_BACAN_DIR):\n",
        "    os.remove(file.path)\n",
        "if len(os.listdir(TRAINING_BATUGIOK_DIR)) > 0:\n",
        "  for file in os.scandir(TRAINING_BATUGIOK_DIR):\n",
        "    os.remove(file.path)\n",
        "if len(os.listdir(TRAINING_BIOSOLAR_DIR)) > 0:\n",
        "  for file in os.scandir(TRAINING_BIOSOLAR_DIR):\n",
        "    os.remove(file.path)\n",
        "if len(os.listdir(TRAINING_MERAHDELIMA_DIR)) > 0:\n",
        "  for file in os.scandir(TRAINING_MERAHDELIMA_DIR):\n",
        "    os.remove(file.path)\n",
        "if len(os.listdir(TRAINING_SUNGAIDAREH_DIR)) > 0:\n",
        "  for file in os.scandir(TRAINING_SUNGAIDAREH_DIR):\n",
        "    os.remove(file.path)\n",
        "if len(os.listdir(TRAINING_KALIMAYA_DIR)) > 0:\n",
        "  for file in os.scandir(TRAINING_KALIMAYA_DIR):\n",
        "    os.remove(file.path)\n",
        "if len(os.listdir(TRAINING_KALSEDON_DIR)) > 0:\n",
        "  for file in os.scandir(TRAINING_KALSEDON_DIR):\n",
        "    os.remove(file.path)\n",
        "if len(os.listdir(TRAINING_KECUBUNG_DIR)) > 0:\n",
        "  for file in os.scandir(TRAINING_KECUBUNG_DIR):\n",
        "    os.remove(file.path)\n",
        "if len(os.listdir(TRAINING_PIRUS_DIR)) > 0:\n",
        "  for file in os.scandir(TRAINING_PIRUS_DIR):\n",
        "    os.remove(file.path)\n",
        "if len(os.listdir(TRAINING_SAFIR_DIR)) > 0:\n",
        "  for file in os.scandir(TRAINING_SAFIR_DIR):\n",
        "    os.remove(file.path)\n",
        "if len(os.listdir(TRAINING_SULAIMAN_DIR)) > 0:\n",
        "  for file in os.scandir(TRAINING_SULAIMAN_DIR):\n",
        "    os.remove(file.path)\n",
        "if len(os.listdir(TRAINING_TAPAKJALAK_DIR)) > 0:\n",
        "  for file in os.scandir(TRAINING_TAPAKJALAK_DIR):\n",
        "    os.remove(file.path)\n",
        "if len(os.listdir(TRAINING_TOPAZKUNING_DIR)) > 0:\n",
        "  for file in os.scandir(TRAINING_TOPAZKUNING_DIR):\n",
        "    os.remove(file.path)\n",
        "if len(os.listdir(TRAINING_ZAMRUD_DIR)) > 0:\n",
        "  for file in os.scandir(TRAINING_ZAMRUD_DIR):\n",
        "    os.remove(file.path)\n",
        "\n",
        "# TESTING\n",
        "if len(os.listdir(TESTING_BACAN_DIR)) > 0:\n",
        "  for file in os.scandir(TESTING_BACAN_DIR):\n",
        "    os.remove(file.path)\n",
        "if len(os.listdir(TESTING_BATUGIOK_DIR)) > 0:\n",
        "  for file in os.scandir(TESTING_BATUGIOK_DIR):\n",
        "    os.remove(file.path)\n",
        "if len(os.listdir(TESTING_BIOSOLAR_DIR)) > 0:\n",
        "  for file in os.scandir(TESTING_BIOSOLAR_DIR):\n",
        "    os.remove(file.path)\n",
        "if len(os.listdir(TESTING_MERAHDELIMA_DIR)) > 0:\n",
        "  for file in os.scandir(TESTING_MERAHDELIMA_DIR):\n",
        "    os.remove(file.path)\n",
        "if len(os.listdir(TESTING_SUNGAIDAREH_DIR)) > 0:\n",
        "  for file in os.scandir(TESTING_SUNGAIDAREH_DIR):\n",
        "    os.remove(file.path)\n",
        "if len(os.listdir(TESTING_KALIMAYA_DIR)) > 0:\n",
        "  for file in os.scandir(TESTING_KALIMAYA_DIR):\n",
        "    os.remove(file.path)\n",
        "if len(os.listdir(TESTING_KALSEDON_DIR)) > 0:\n",
        "  for file in os.scandir(TESTING_KALSEDON_DIR):\n",
        "    os.remove(file.path)\n",
        "if len(os.listdir(TESTING_KECUBUNG_DIR)) > 0:\n",
        "  for file in os.scandir(TESTING_KECUBUNG_DIR):\n",
        "    os.remove(file.path)\n",
        "if len(os.listdir(TESTING_PIRUS_DIR)) > 0:\n",
        "  for file in os.scandir(TESTING_PIRUS_DIR):\n",
        "    os.remove(file.path)\n",
        "if len(os.listdir(TESTING_SAFIR_DIR)) > 0:\n",
        "  for file in os.scandir(TESTING_SAFIR_DIR):\n",
        "    os.remove(file.path)\n",
        "if len(os.listdir(TESTING_SULAIMAN_DIR)) > 0:\n",
        "  for file in os.scandir(TESTING_SULAIMAN_DIR):\n",
        "    os.remove(file.path)\n",
        "if len(os.listdir(TESTING_TAPAKJALAK_DIR)) > 0:\n",
        "  for file in os.scandir(TESTING_TAPAKJALAK_DIR):\n",
        "    os.remove(file.path)\n",
        "if len(os.listdir(TESTING_TOPAZKUNING_DIR)) > 0:\n",
        "  for file in os.scandir(TESTING_TOPAZKUNING_DIR):\n",
        "    os.remove(file.path)\n",
        "if len(os.listdir(TESTING_ZAMRUD_DIR)) > 0:\n",
        "  for file in os.scandir(TESTING_ZAMRUD_DIR):\n",
        "    os.remove(file.path)"
      ],
      "metadata": {
        "id": "DZOL1X2HexGK"
      },
      "execution_count": 9,
      "outputs": []
    },
    {
      "cell_type": "markdown",
      "source": [
        "**Testing split_data function**"
      ],
      "metadata": {
        "id": "FMCNUjIwPmTS"
      }
    },
    {
      "cell_type": "code",
      "source": [
        "# Define proportion of images used for training\n",
        "split_size = .9\n",
        "\n",
        "# Run the function\n",
        "# NOTE: Messages about zero length images should be printed out\n",
        "split_data(BACAN_SOURCE_DIR, TRAINING_BACAN_DIR, TESTING_BACAN_DIR, split_size)\n",
        "split_data(BATUGIOK_SOURCE_DIR, TRAINING_BATUGIOK_DIR, TESTING_BATUGIOK_DIR, split_size)\n",
        "split_data(BIOSOLAR_SOURCE_DIR, TRAINING_BIOSOLAR_DIR, TESTING_BIOSOLAR_DIR, split_size)\n",
        "split_data(MERAHDELIMA_SOURCE_DIR, TRAINING_MERAHDELIMA_DIR, TESTING_MERAHDELIMA_DIR, split_size)\n",
        "split_data(SUNGAIDAREH_SOURCE_DIR, TRAINING_SUNGAIDAREH_DIR, TESTING_SUNGAIDAREH_DIR, split_size)\n",
        "split_data(KALIMAYA_SOURCE_DIR, TRAINING_KALIMAYA_DIR, TESTING_KALIMAYA_DIR, split_size)\n",
        "split_data(KALSEDON_SOURCE_DIR, TRAINING_KALSEDON_DIR, TESTING_KALSEDON_DIR, split_size)\n",
        "split_data(KECUBUNG_SOURCE_DIR, TRAINING_KECUBUNG_DIR, TESTING_KECUBUNG_DIR, split_size)\n",
        "split_data(PIRUS_SOURCE_DIR, TRAINING_PIRUS_DIR, TESTING_PIRUS_DIR, split_size)\n",
        "split_data(SAFIR_SOURCE_DIR, TRAINING_SAFIR_DIR, TESTING_SAFIR_DIR, split_size)\n",
        "split_data(SULAIMAN_SOURCE_DIR, TRAINING_SULAIMAN_DIR, TESTING_SULAIMAN_DIR, split_size)\n",
        "split_data(TAPAKJALAK_SOURCE_DIR, TRAINING_TAPAKJALAK_DIR, TESTING_TAPAKJALAK_DIR, split_size)\n",
        "split_data(TOPAZKUNING_SOURCE_DIR, TRAINING_TOPAZKUNING_DIR, TESTING_TOPAZKUNING_DIR, split_size)\n",
        "split_data(ZAMRUD_SOURCE_DIR, TRAINING_ZAMRUD_DIR, TESTING_ZAMRUD_DIR, split_size)\n",
        "\n",
        "# Check that the number of images matches the expected output\n",
        "print(f\"\\nThere are {len(os.listdir(TRAINING_BACAN_DIR))} images of Bacan for training\")\n",
        "print(f\"There are {len(os.listdir(TRAINING_BATUGIOK_DIR))} images of Batugiok for training\")\n",
        "print(f\"There are {len(os.listdir(TRAINING_BIOSOLAR_DIR))} images of Biosolar for training\")\n",
        "print(f\"There are {len(os.listdir(TRAINING_MERAHDELIMA_DIR))} images of Merah Delima for training\")\n",
        "print(f\"There are {len(os.listdir(TRAINING_SUNGAIDAREH_DIR))} images of Sungai Dareh for training\")\n",
        "print(f\"There are {len(os.listdir(TRAINING_KALIMAYA_DIR))} images of Kalimaya for training\")\n",
        "print(f\"There are {len(os.listdir(TRAINING_KALSEDON_DIR))} images of Kalsedon for training\")\n",
        "print(f\"There are {len(os.listdir(TRAINING_KECUBUNG_DIR))} images of Kecubung for training\")\n",
        "print(f\"There are {len(os.listdir(TRAINING_PIRUS_DIR))} images of Pirus for training\")\n",
        "print(f\"There are {len(os.listdir(TRAINING_SAFIR_DIR))} images of Safir for training\")\n",
        "print(f\"There are {len(os.listdir(TRAINING_SULAIMAN_DIR))} images of Sulaiman for training\")\n",
        "print(f\"There are {len(os.listdir(TRAINING_TAPAKJALAK_DIR))} images of Tapak Jalak for training\")\n",
        "print(f\"There are {len(os.listdir(TRAINING_TOPAZKUNING_DIR))} images of Topaz Kuning for training\")\n",
        "print(f\"There are {len(os.listdir(TRAINING_ZAMRUD_DIR))} images of Zamrud for training\")\n",
        "\n",
        "print(f\"\\nThere are {len(os.listdir(TESTING_BACAN_DIR))} images of bacan for testing\")\n",
        "print(f\"There are {len(os.listdir(TESTING_BATUGIOK_DIR))} images of Batugiok for testing\")\n",
        "print(f\"There are {len(os.listdir(TESTING_BIOSOLAR_DIR))} images of Biosolar for testing\")\n",
        "print(f\"There are {len(os.listdir(TESTING_MERAHDELIMA_DIR))} images of merah delima for testing\")\n",
        "print(f\"There are {len(os.listdir(TESTING_SUNGAIDAREH_DIR))} images of sungai dareh for testing\")\n",
        "print(f\"There are {len(os.listdir(TESTING_KALIMAYA_DIR))} images of Kalimaya for testing\")\n",
        "print(f\"There are {len(os.listdir(TESTING_KALSEDON_DIR))} images of Kalsedon for testing\")\n",
        "print(f\"There are {len(os.listdir(TESTING_KECUBUNG_DIR))} images of Kecubung for testing\")\n",
        "print(f\"There are {len(os.listdir(TESTING_PIRUS_DIR))} images of Pirus for testing\")\n",
        "print(f\"There are {len(os.listdir(TESTING_SAFIR_DIR))} images of Safir for testing\")\n",
        "print(f\"There are {len(os.listdir(TESTING_SULAIMAN_DIR))} images of Sulaiman for testing\")\n",
        "print(f\"There are {len(os.listdir(TESTING_TAPAKJALAK_DIR))} images of Tapak Jalak for testing\")\n",
        "print(f\"There are {len(os.listdir(TESTING_TOPAZKUNING_DIR))} images of Topaz Kuning for testing\")\n",
        "print(f\"There are {len(os.listdir(TESTING_ZAMRUD_DIR))} images of Zamrud for testing\")"
      ],
      "metadata": {
        "colab": {
          "base_uri": "https://localhost:8080/"
        },
        "id": "sz6QPyDyPlCq",
        "outputId": "beb42b0b-58a9-4ac4-afd6-132c469f27b3"
      },
      "execution_count": 10,
      "outputs": [
        {
          "output_type": "stream",
          "name": "stdout",
          "text": [
            "\n",
            "There are 90 images of Bacan for training\n",
            "There are 90 images of Batugiok for training\n",
            "There are 90 images of Biosolar for training\n",
            "There are 90 images of Merah Delima for training\n",
            "There are 90 images of Sungai Dareh for training\n",
            "There are 90 images of Kalimaya for training\n",
            "There are 90 images of Kalsedon for training\n",
            "There are 90 images of Kecubung for training\n",
            "There are 90 images of Pirus for training\n",
            "There are 90 images of Safir for training\n",
            "There are 90 images of Sulaiman for training\n",
            "There are 90 images of Tapak Jalak for training\n",
            "There are 90 images of Topaz Kuning for training\n",
            "There are 90 images of Zamrud for training\n",
            "\n",
            "There are 10 images of bacan for testing\n",
            "There are 10 images of Batugiok for testing\n",
            "There are 10 images of Biosolar for testing\n",
            "There are 10 images of merah delima for testing\n",
            "There are 10 images of sungai dareh for testing\n",
            "There are 10 images of Kalimaya for testing\n",
            "There are 10 images of Kalsedon for testing\n",
            "There are 10 images of Kecubung for testing\n",
            "There are 10 images of Pirus for testing\n",
            "There are 10 images of Safir for testing\n",
            "There are 10 images of Sulaiman for testing\n",
            "There are 10 images of Tapak Jalak for testing\n",
            "There are 10 images of Topaz Kuning for testing\n",
            "There are 10 images of Zamrud for testing\n"
          ]
        }
      ]
    },
    {
      "cell_type": "markdown",
      "source": [
        "**Create function to read images with its labels from directory**"
      ],
      "metadata": {
        "id": "bSaTzhp9PDSa"
      }
    },
    {
      "cell_type": "code",
      "source": [
        "img_width, img_height = 300, 300    # width and height of image\n",
        "\n",
        "def read_imgs_lbls(_dir):\n",
        "    Images, Labels = [], []\n",
        "    for root, dirs, files in os.walk(_dir):\n",
        "        f = os.path.basename(root)  # get class name - Bacan, Kalimaya, etc       \n",
        "        for file in files:\n",
        "            Labels.append(f)\n",
        "            try:\n",
        "                image = cv2.imread(root+'/'+file)              # read the image (OpenCV)\n",
        "                image = cv2.resize(image,(int(img_width), int(img_height)))       # resize the image (images are different sizes)\n",
        "                image = cv2.cvtColor(image, cv2.COLOR_BGR2RGB) # converts an image from BGR color space to RGB\n",
        "                Images.append(image)\n",
        "            except Exception as e:\n",
        "                print(e)\n",
        "    Images = np.array(Images)\n",
        "    return (Images, Labels)"
      ],
      "metadata": {
        "id": "q6K7vQkXHczY"
      },
      "execution_count": 11,
      "outputs": []
    },
    {
      "cell_type": "markdown",
      "source": [
        "**Shape of Train Images & Labels**"
      ],
      "metadata": {
        "id": "ZRgY-hOCQQrx"
      }
    },
    {
      "cell_type": "code",
      "source": [
        "def get_class_index(Labels):\n",
        "    for i, n in enumerate(Labels):\n",
        "        for j, k in enumerate(CLASSES):    # foreach CLASSES\n",
        "            if n == k:\n",
        "                Labels[i] = j\n",
        "    Labels = np.array(Labels)\n",
        "    return Labels\n",
        "\n",
        "Train_Imgs, Train_Lbls = read_imgs_lbls(TRAINING_DIR)\n",
        "Train_Lbls = get_class_index(Train_Lbls)\n",
        "print('Shape of train images: {}'.format(Train_Imgs.shape))\n",
        "print('Shape of train labels: {}'.format(Train_Lbls.shape))"
      ],
      "metadata": {
        "id": "0TKkv1UuIuzv",
        "colab": {
          "base_uri": "https://localhost:8080/"
        },
        "outputId": "112f03dc-d511-4436-8a99-b78d0e6db14b"
      },
      "execution_count": 12,
      "outputs": [
        {
          "output_type": "stream",
          "name": "stdout",
          "text": [
            "Shape of train images: (1260, 300, 300, 3)\n",
            "Shape of train labels: (1260,)\n"
          ]
        }
      ]
    },
    {
      "cell_type": "code",
      "source": [
        "from keras.models import Sequential\n",
        "from tensorflow.keras.preprocessing.image import ImageDataGenerator\n",
        "from keras.layers import Conv2D, MaxPooling2D, AveragePooling2D\n",
        "from keras.layers import Activation, Dropout, Flatten, Dense\n",
        "from keras import optimizers"
      ],
      "metadata": {
        "id": "KROdkMR213vp"
      },
      "execution_count": 13,
      "outputs": []
    },
    {
      "cell_type": "markdown",
      "source": [
        "**Create Train & Validation Generator (with image augmentation)**"
      ],
      "metadata": {
        "id": "qthty6isQsiw"
      }
    },
    {
      "cell_type": "code",
      "source": [
        "# train_val_generators\n",
        "def train_val_generators(TRAINING_DIR, VALIDATION_DIR):\n",
        "  # Instantiate the ImageDataGenerator class (don't forget to set the rescale argument)\n",
        "  # this is the augmentation configuration used for training\n",
        "  train_datagen = ImageDataGenerator(rescale=1/255, \n",
        "                                     rotation_range=25,\n",
        "                                     zoom_range=0.1,\n",
        "                                     width_shift_range=0.1,\n",
        "                                     height_shift_range=0.1,\n",
        "                                     shear_range=0.2,\n",
        "                                     horizontal_flip=True)\n",
        "\n",
        "\n",
        "  # Pass in the appropiate arguments to the flow_from_directory method\n",
        "  train_generator = train_datagen.flow_from_directory(directory=TRAINING_DIR,\n",
        "                                                      batch_size=50,\n",
        "                                                      class_mode='sparse',\n",
        "                                                      target_size=(300, 300))\n",
        "\n",
        "  # Instantiate the ImageDataGenerator class (don't forget to set the rescale argument)\n",
        "  validation_datagen = ImageDataGenerator(rescale=1/255)\n",
        "\n",
        "  # Pass in the appropiate arguments to the flow_from_directory method\n",
        "  validation_generator = validation_datagen.flow_from_directory(directory=VALIDATION_DIR,\n",
        "                                                                batch_size=5,\n",
        "                                                                class_mode='sparse',\n",
        "                                                                target_size=(300, 300))\n",
        "  \n",
        "  return train_generator, validation_generator"
      ],
      "metadata": {
        "id": "8hHPlEqE2LCa"
      },
      "execution_count": 14,
      "outputs": []
    },
    {
      "cell_type": "code",
      "source": [
        "# Test your generators\n",
        "train_generator, validation_generator = train_val_generators(TRAINING_DIR, TESTING_DIR)"
      ],
      "metadata": {
        "colab": {
          "base_uri": "https://localhost:8080/"
        },
        "id": "aXvdT3HR2LKQ",
        "outputId": "665c8bcb-b50d-4ba4-fc26-8fbfed363617"
      },
      "execution_count": 15,
      "outputs": [
        {
          "output_type": "stream",
          "name": "stdout",
          "text": [
            "Found 1260 images belonging to 14 classes.\n",
            "Found 140 images belonging to 14 classes.\n"
          ]
        }
      ]
    },
    {
      "cell_type": "markdown",
      "source": [
        "**Create Model**"
      ],
      "metadata": {
        "id": "fSJsCSkMQ3fh"
      }
    },
    {
      "cell_type": "code",
      "source": [
        "# GRADED FUNCTION: create_model\n",
        "def create_model():\n",
        "  model = tf.keras.models.Sequential([ \n",
        "      tf.keras.layers.Conv2D(32, (3,3), input_shape=(300,300,3), activation='relu'),\n",
        "      tf.keras.layers.MaxPooling2D(2,2),\n",
        "      tf.keras.layers.Conv2D(64, (3,3), activation='relu'),\n",
        "      tf.keras.layers.MaxPooling2D(2,2),\n",
        "      tf.keras.layers.Conv2D(128, (3,3), activation='relu'),\n",
        "      tf.keras.layers.MaxPooling2D(2,2),\n",
        "      tf.keras.layers.Conv2D(128, (3,3), activation='relu'),\n",
        "      tf.keras.layers.MaxPooling2D(2,2),\n",
        "      tf.keras.layers.Conv2D(128, (3,3), activation='relu'),\n",
        "      tf.keras.layers.MaxPooling2D(2,2),\n",
        "      tf.keras.layers.Flatten(),\n",
        "      tf.keras.layers.Dropout(0.5),\n",
        "      tf.keras.layers.Dense(256, activation='relu'),\n",
        "      tf.keras.layers.Dense(14, activation=\"softmax\"),\n",
        "  ])\n",
        "\n",
        "  \n",
        "  model.compile(optimizer='adam',\n",
        "                loss='sparse_categorical_crossentropy',\n",
        "                metrics=['accuracy']) \n",
        "\n",
        "  return model\n"
      ],
      "metadata": {
        "id": "uHHJ_THKgBMx"
      },
      "execution_count": 16,
      "outputs": []
    },
    {
      "cell_type": "code",
      "source": [
        "model = create_model()\n",
        "\n",
        "# Train the model\n",
        "# Note that this may take some time.\n",
        "history = model.fit(train_generator,\n",
        "                    epochs=10,\n",
        "                    verbose=1,\n",
        "                    validation_data=validation_generator)"
      ],
      "metadata": {
        "colab": {
          "base_uri": "https://localhost:8080/"
        },
        "id": "rNAR99UvmDb-",
        "outputId": "3554db22-b8d5-4a88-fc46-3cc1f149cb22"
      },
      "execution_count": 17,
      "outputs": [
        {
          "output_type": "stream",
          "name": "stdout",
          "text": [
            "Epoch 1/10\n",
            "26/26 [==============================] - 283s 11s/step - loss: 2.2401 - accuracy: 0.2000 - val_loss: 1.5388 - val_accuracy: 0.4929\n",
            "Epoch 2/10\n",
            "26/26 [==============================] - 277s 11s/step - loss: 1.4379 - accuracy: 0.5071 - val_loss: 1.1532 - val_accuracy: 0.6000\n",
            "Epoch 3/10\n",
            "26/26 [==============================] - 295s 11s/step - loss: 1.1326 - accuracy: 0.5802 - val_loss: 1.2241 - val_accuracy: 0.5214\n",
            "Epoch 4/10\n",
            "26/26 [==============================] - 287s 11s/step - loss: 1.2486 - accuracy: 0.5635 - val_loss: 1.2130 - val_accuracy: 0.5286\n",
            "Epoch 5/10\n",
            "26/26 [==============================] - 295s 11s/step - loss: 0.9955 - accuracy: 0.6413 - val_loss: 0.9440 - val_accuracy: 0.6643\n",
            "Epoch 6/10\n",
            "26/26 [==============================] - 293s 11s/step - loss: 0.8634 - accuracy: 0.6889 - val_loss: 1.4805 - val_accuracy: 0.5429\n",
            "Epoch 7/10\n",
            "26/26 [==============================] - 286s 11s/step - loss: 0.9270 - accuracy: 0.6714 - val_loss: 0.7661 - val_accuracy: 0.7571\n",
            "Epoch 8/10\n",
            "26/26 [==============================] - 284s 11s/step - loss: 0.7986 - accuracy: 0.7119 - val_loss: 0.8420 - val_accuracy: 0.6929\n",
            "Epoch 9/10\n",
            "26/26 [==============================] - 281s 11s/step - loss: 0.7674 - accuracy: 0.7175 - val_loss: 0.7927 - val_accuracy: 0.6857\n",
            "Epoch 10/10\n",
            "26/26 [==============================] - 285s 11s/step - loss: 0.6905 - accuracy: 0.7516 - val_loss: 0.7384 - val_accuracy: 0.7357\n"
          ]
        }
      ]
    },
    {
      "cell_type": "code",
      "source": [
        "#-----------------------------------------------------------\n",
        "# Retrieve a list of list results on training and test data\n",
        "# sets for each training epoch\n",
        "#-----------------------------------------------------------\n",
        "acc=history.history['accuracy']                 \n",
        "val_acc=history.history['val_accuracy']   \n",
        "loss=history.history['loss']\n",
        "val_loss=history.history['val_loss']\n",
        "\n",
        "epochs=range(len(acc)) # Get number of epochs\n",
        "\n",
        "#------------------------------------------------\n",
        "# Plot training and validation accuracy per epoch\n",
        "#------------------------------------------------\n",
        "plt.plot(epochs, acc, 'r', \"Training Accuracy\")\n",
        "plt.plot(epochs, val_acc, 'b', \"Validation Accuracy\")\n",
        "plt.title('Training and validation accuracy')\n",
        "plt.show()\n",
        "print(\"\")\n",
        "\n",
        "#------------------------------------------------\n",
        "# Plot training and validation loss per epoch\n",
        "#------------------------------------------------\n",
        "plt.plot(epochs, loss, 'r', \"Training Loss\")\n",
        "plt.plot(epochs, val_loss, 'b', \"Validation Loss\")\n",
        "plt.show()"
      ],
      "metadata": {
        "colab": {
          "base_uri": "https://localhost:8080/",
          "height": 546
        },
        "id": "lOSfXgsCif8s",
        "outputId": "58c0d563-1f36-4ae4-a18b-e80b7e6315cc"
      },
      "execution_count": 18,
      "outputs": [
        {
          "output_type": "display_data",
          "data": {
            "text/plain": [
              "<Figure size 432x288 with 1 Axes>"
            ],
            "image/png": "[encoded data removed]"
          },
          "metadata": {
            "needs_background": "light"
          }
        },
        {
          "output_type": "stream",
          "name": "stdout",
          "text": [
            "\n"
          ]
        },
        {
          "output_type": "display_data",
          "data": {
            "text/plain": [
              "<Figure size 432x288 with 1 Axes>"
            ],
            "image/png": "[encoded data removed]"
          },
          "metadata": {
            "needs_background": "light"
          }
        }
      ]
    },
    {
      "cell_type": "markdown",
      "source": [
        "**Generate a SavedModel**"
      ],
      "metadata": {
        "id": "At2OdQkPKAEH"
      }
    },
    {
      "cell_type": "code",
      "source": [
        "# EXERCISE: Use the tf.saved_model API to save your model in the SavedModel format. \n",
        "export_dir = '/tmp/saved_model'\n",
        "\n",
        "# YOUR CODE HERE\n",
        "tf.saved_model.save(model, export_dir)"
      ],
      "metadata": {
        "colab": {
          "base_uri": "https://localhost:8080/"
        },
        "id": "z9qLgSF7JuhA",
        "outputId": "948e0572-8180-4acf-8b6b-9199b45e6aaf"
      },
      "execution_count": 19,
      "outputs": [
        {
          "output_type": "stream",
          "name": "stdout",
          "text": [
            "INFO:tensorflow:Assets written to: /tmp/saved_model/assets\n"
          ]
        }
      ]
    },
    {
      "cell_type": "markdown",
      "source": [
        "**Convert the SavedModel to TFLite**"
      ],
      "metadata": {
        "id": "Q3w3NwALLHhv"
      }
    },
    {
      "cell_type": "code",
      "source": [
        "converter = tf.lite.TFLiteConverter.from_saved_model(export_dir)\n",
        "tflite_model = converter.convert()"
      ],
      "metadata": {
        "colab": {
          "base_uri": "https://localhost:8080/"
        },
        "id": "9mZDtNdZKOPB",
        "outputId": "d19f433a-fe28-4c78-9939-82fe3d88601d"
      },
      "execution_count": 20,
      "outputs": [
        {
          "output_type": "stream",
          "name": "stderr",
          "text": [
            "WARNING:absl:Buffer deduplication procedure will be skipped when flatbuffer library is not properly loaded\n"
          ]
        }
      ]
    },
    {
      "cell_type": "markdown",
      "source": [
        "**Save & download the TFLite model**"
      ],
      "metadata": {
        "id": "fGnPnoGDLMQQ"
      }
    },
    {
      "cell_type": "code",
      "source": [
        "tflite_model_file = pathlib.Path('/tmp/model.tflite')\n",
        "tflite_model_file.write_bytes(tflite_model)\n",
        "\n",
        "# Download the TFLite model file\n",
        "files.download(tflite_model_file)"
      ],
      "metadata": {
        "colab": {
          "base_uri": "https://localhost:8080/",
          "height": 17
        },
        "id": "9OyD2bSSLRmQ",
        "outputId": "9cc3b0d7-b504-47f5-b363-da558f946731"
      },
      "execution_count": 23,
      "outputs": [
        {
          "output_type": "display_data",
          "data": {
            "text/plain": [
              "<IPython.core.display.Javascript object>"
            ],
            "application/javascript": [
              "\n",
              "    async function download(id, filename, size) {\n",
              "      if (!google.colab.kernel.accessAllowed) {\n",
              "        return;\n",
              "      }\n",
              "      const div = document.createElement('div');\n",
              "      const label = document.createElement('label');\n",
              "      label.textContent = `Downloading \"${filename}\": `;\n",
              "      div.appendChild(label);\n",
              "      const progress = document.createElement('progress');\n",
              "      progress.max = size;\n",
              "      div.appendChild(progress);\n",
              "      document.body.appendChild(div);\n",
              "\n",
              "      const buffers = [];\n",
              "      let downloaded = 0;\n",
              "\n",
              "      const channel = await google.colab.kernel.comms.open(id);\n",
              "      // Send a message to notify the kernel that we're ready.\n",
              "      channel.send({})\n",
              "\n",
              "      for await (const message of channel.messages) {\n",
              "        // Send a message to notify the kernel that we're ready.\n",
              "        channel.send({})\n",
              "        if (message.buffers) {\n",
              "          for (const buffer of message.buffers) {\n",
              "            buffers.push(buffer);\n",
              "            downloaded += buffer.byteLength;\n",
              "            progress.value = downloaded;\n",
              "          }\n",
              "        }\n",
              "      }\n",
              "      const blob = new Blob(buffers, {type: 'application/binary'});\n",
              "      const a = document.createElement('a');\n",
              "      a.href = window.URL.createObjectURL(blob);\n",
              "      a.download = filename;\n",
              "      div.appendChild(a);\n",
              "      a.click();\n",
              "      div.remove();\n",
              "    }\n",
              "  "
            ]
          },
          "metadata": {}
        },
        {
          "output_type": "display_data",
          "data": {
            "text/plain": [
              "<IPython.core.display.Javascript object>"
            ],
            "application/javascript": [
              "download(\"download_edd48a1c-9834-46c5-8172-60cebfd188b2\", \"model.tflite\", 7996452)"
            ]
          },
          "metadata": {}
        }
      ]
    }
  ]
}